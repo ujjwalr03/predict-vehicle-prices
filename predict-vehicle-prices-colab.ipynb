{
  "nbformat": 4,
  "nbformat_minor": 0,
  "metadata": {
    "colab": {
      "provenance": []
    },
    "kernelspec": {
      "name": "python3",
      "display_name": "Python 3"
    },
    "language_info": {
      "name": "python"
    }
  },
  "cells": [
    {
      "cell_type": "code",
      "execution_count": null,
      "metadata": {
        "id": "v3uBXVaYg5mH"
      },
      "outputs": [],
      "source": [
        "# Install dependencies (if needed)\n",
        "!pip install pandas scikit-learn\n",
        "\n",
        "# Import libraries\n",
        "import pandas as pd\n",
        "from sklearn.model_selection import train_test_split\n",
        "from sklearn.preprocessing import OneHotEncoder\n",
        "from sklearn.impute import SimpleImputer\n",
        "from sklearn.ensemble import RandomForestRegressor\n",
        "from sklearn.metrics import mean_absolute_error, mean_squared_error, r2_score\n",
        "\n",
        "# Load dataset from GitHub\n",
        "url = \"https://raw.githubusercontent.com/ujjwalr03/predict-vehicle-prices/main/dataset.csv\"\n",
        "df = pd.read_csv(url)\n",
        "\n",
        "# Drop rows where price is missing (target variable)\n",
        "df = df.dropna(subset=['price'])\n",
        "\n",
        "# Handle missing values\n",
        "num_cols = ['cylinders', 'mileage', 'doors']\n",
        "imputer = SimpleImputer(strategy='median')\n",
        "df[num_cols] = imputer.fit_transform(df[num_cols])\n",
        "\n",
        "cat_cols = ['engine', 'fuel', 'transmission', 'trim', 'body', 'exterior_color', 'interior_color']\n",
        "df[cat_cols] = df[cat_cols].fillna('Unknown')\n",
        "\n",
        "# One-hot encoding\n",
        "encoder = OneHotEncoder(drop='first', sparse_output=False, handle_unknown='ignore')\n",
        "encoded_features = encoder.fit_transform(df[cat_cols])\n",
        "encoded_df = pd.DataFrame(encoded_features, columns=encoder.get_feature_names_out(cat_cols))\n",
        "\n",
        "# Combine processed data\n",
        "df_processed = pd.concat([df[['year', 'cylinders', 'mileage', 'doors', 'price']], encoded_df], axis=1)\n",
        "\n",
        "# Fill remaining NaNs (if any)\n",
        "df_processed = df_processed.fillna(0)\n",
        "\n",
        "# Split data\n",
        "X = df_processed.drop(columns=['price'])\n",
        "y = df_processed['price']\n",
        "X_train, X_test, y_train, y_test = train_test_split(X, y, test_size=0.2, random_state=42)\n",
        "\n",
        "# Train Random Forest Model\n",
        "model = RandomForestRegressor(n_estimators=100, random_state=42)\n",
        "model.fit(X_train, y_train)\n",
        "\n",
        "# Predict and evaluate\n",
        "y_pred = model.predict(X_test)\n",
        "mae = mean_absolute_error(y_test, y_pred)\n",
        "rmse = np.sqrt(mean_squared_error(y_test, y_pred))\n",
        "r2 = r2_score(y_test, y_pred)\n",
        "\n",
        "# Print results\n",
        "print(f\"Mean Absolute Error: ${mae:.2f}\")\n",
        "print(f\"Root Mean Squared Error: ${rmse:.2f}\")\n",
        "print(f\"R² Score: {r2:.3f}\")\n"
      ]
    }
  ]
}
